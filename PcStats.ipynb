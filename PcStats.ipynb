{
 "metadata": {
  "language_info": {
   "codemirror_mode": {
    "name": "ipython",
    "version": 3
   },
   "file_extension": ".py",
   "mimetype": "text/x-python",
   "name": "python",
   "nbconvert_exporter": "python",
   "pygments_lexer": "ipython3",
   "version": "3.8.5-final"
  },
  "orig_nbformat": 2,
  "kernelspec": {
   "name": "python38564bitpcstatsdashenvvenv7f88af73a255456caa5da5bfcb8365e6",
   "display_name": "Python 3.8.5 64-bit ('pcstatsdashEnv': venv)"
  }
 },
 "nbformat": 4,
 "nbformat_minor": 2,
 "cells": [
  {
   "cell_type": "code",
   "execution_count": 14,
   "metadata": {},
   "outputs": [],
   "source": [
    "# The following is taken from \n",
    "# https://www.thepythoncode.com/article/get-hardware-system-information-python#System_Information\n",
    "\n",
    "import psutil\n",
    "import sys\n",
    "import platform\n",
    "from datetime import datetime"
   ]
  },
  {
   "cell_type": "code",
   "execution_count": 15,
   "metadata": {},
   "outputs": [],
   "source": [
    "def get_size(bytes, suffix=\"B\"):\n",
    "    '''\n",
    "    Scale bytes to its proper format \n",
    "    e.g:\n",
    "        1253656 => '1.2MB'S\n",
    "    '''\n",
    "    factor = 1024\n",
    "    for unit in ['','K','M','G','T','P']:\n",
    "        if bytes < factor:\n",
    "            return f\"{bytes:.2f}{unit}{suffix}\"\n",
    "        bytes /= factor"
   ]
  },
  {
   "cell_type": "code",
   "execution_count": 16,
   "metadata": {},
   "outputs": [
    {
     "output_type": "stream",
     "name": "stdout",
     "text": [
      "System: Linux\nSystem: Linux\nNode Name: box\nVersion: #60-Ubuntu SMP Fri Nov 6 10:37:59 UTC 2020\nMachine: x86_64\nProcessor: x86_64\n"
     ]
    }
   ],
   "source": [
    "## System information ##################################################\n",
    "uname = platform.uname()\n",
    "print(f\"System: {uname.system}\")\n",
    "print(f\"System: {uname.system}\")\n",
    "print(f\"Node Name: {uname.node}\")\n",
    "print(f\"Version: {uname.version}\")\n",
    "print(f\"Machine: {uname.machine}\")\n",
    "print(f\"Processor: {uname.processor}\")"
   ]
  },
  {
   "cell_type": "code",
   "execution_count": 17,
   "metadata": {},
   "outputs": [
    {
     "output_type": "stream",
     "name": "stdout",
     "text": [
      "Boot Time: 2020/11/22 17:40:2\n"
     ]
    }
   ],
   "source": [
    "## Date and time PC was booted #########################################\n",
    "boot_time_timestamp = psutil.boot_time()\n",
    "bt = datetime.fromtimestamp(boot_time_timestamp)\n",
    "print(f\"Boot Time: {bt.year}/{bt.month}/{bt.day} {bt.hour}:{bt.minute}:{bt.second}\")"
   ]
  },
  {
   "cell_type": "code",
   "execution_count": 18,
   "metadata": {},
   "outputs": [
    {
     "output_type": "stream",
     "name": "stdout",
     "text": [
      "Physical cores: 8\n",
      "Total cores: 16\n",
      "Max Frequency:  5300.00Mhz\n",
      "Min Frequency:  800.00Mhz\n",
      "Current Frequency:  1565.71Mhz\n",
      "CPU Usage Per Core:\n",
      "Core 0: 5.8%\n",
      "Core 1: 1.0%\n",
      "Core 2: 4.0%\n",
      "Core 3: 1.0%\n",
      "Core 4: 0.0%\n",
      "Core 5: 9.9%\n",
      "Core 6: 15.2%\n",
      "Core 7: 2.0%\n",
      "Core 8: 5.2%\n",
      "Core 9: 0.0%\n",
      "Core 10: 0.0%\n",
      "Core 11: 1.0%\n",
      "Core 12: 2.0%\n",
      "Core 13: 1.0%\n",
      "Core 14: 0.0%\n",
      "Core 15: 6.2%\n",
      "Total CPU Usage: 4.8%\n"
     ]
    }
   ],
   "source": [
    "## CPU Information #####################################################\n",
    "\n",
    "# number of cores\n",
    "print(\"Physical cores:\", psutil.cpu_count(logical=False))\n",
    "print(\"Total cores:\", psutil.cpu_count(logical=True))\n",
    "\n",
    "# CPU frequencies\n",
    "cpufreq = psutil.cpu_freq()\n",
    "print(f\"Max Frequency: {cpufreq.max: .2f}Mhz\")\n",
    "print(f\"Min Frequency: {cpufreq.min: .2f}Mhz\")\n",
    "print(f\"Current Frequency: {cpufreq.current: .2f}Mhz\")\n",
    "\n",
    "# CPU usage \n",
    "print(\"CPU Usage Per Core:\")\n",
    "for i, percentage in enumerate(psutil.cpu_percent(percpu=True, interval=1)):\n",
    "    print(f\"Core {i}: {percentage}%\")\n",
    "print(f\"Total CPU Usage: {psutil.cpu_percent()}%\")"
   ]
  },
  {
   "cell_type": "code",
   "execution_count": 19,
   "metadata": {},
   "outputs": [
    {
     "output_type": "stream",
     "name": "stdout",
     "text": [
      "Total: 31.00GB\nAvailable: 28.85GB\nUsed: 1.61GB\nPercentage: 6.9%\nTotal: 2.00GB\nFree: 2.00GB\nUsed: 0.00B\n"
     ]
    }
   ],
   "source": [
    "## Memory Information #################################################\n",
    "\n",
    "# Get the memory details\n",
    "svmem = psutil.virtual_memory()\n",
    "print(f\"Total: {get_size(svmem.total)}\")\n",
    "print(f\"Available: {get_size(svmem.available)}\")\n",
    "print(f\"Used: {get_size(svmem.used)}\")\n",
    "print(f\"Percentage: {svmem.percent}%\")\n",
    "\n",
    "# get the swap memory details (if exists)\n",
    "swap = psutil.swap_memory()\n",
    "print(f\"Total: {get_size(swap.total)}\")\n",
    "print(f\"Free: {get_size(swap.free)}\")\n",
    "print(f\"Used: {get_size(swap.used)}\")"
   ]
  },
  {
   "cell_type": "code",
   "execution_count": 20,
   "metadata": {},
   "outputs": [
    {
     "output_type": "stream",
     "name": "stdout",
     "text": [
      "Partitions and Usage:\n=== Device: /dev/nvme0n1p2 ===\n Mountpoint: /\n File system type: ext4\n   Total Size: 937.40GB\n   Used: 52.20GB\n   Free: 837.52GB\n   Percentage: 5.9%\n=== Device: /dev/loop1 ===\n Mountpoint: /snap/core/10185\n File system type: squashfs\n   Total Size: 97.75MB\n   Used: 97.75MB\n   Free: 0.00B\n   Percentage: 100.0%\n=== Device: /dev/loop3 ===\n Mountpoint: /snap/gnome-3-34-1804/60\n File system type: squashfs\n   Total Size: 218.00MB\n   Used: 218.00MB\n   Free: 0.00B\n   Percentage: 100.0%\n=== Device: /dev/loop2 ===\n Mountpoint: /snap/core18/1932\n File system type: squashfs\n   Total Size: 55.38MB\n   Used: 55.38MB\n   Free: 0.00B\n   Percentage: 100.0%\n=== Device: /dev/loop4 ===\n Mountpoint: /snap/gnome-3-34-1804/36\n File system type: squashfs\n   Total Size: 255.62MB\n   Used: 255.62MB\n   Free: 0.00B\n   Percentage: 100.0%\n=== Device: /dev/loop0 ===\n Mountpoint: /snap/code/49\n File system type: squashfs\n   Total Size: 142.38MB\n   Used: 142.38MB\n   Free: 0.00B\n   Percentage: 100.0%\n=== Device: /dev/nvme0n1p1 ===\n Mountpoint: /boot/efi\n File system type: vfat\n   Total Size: 510.98MB\n   Used: 7.80MB\n   Free: 503.19MB\n   Percentage: 1.5%\n=== Device: /dev/loop5 ===\n Mountpoint: /snap/snap-store/467\n File system type: squashfs\n   Total Size: 49.88MB\n   Used: 49.88MB\n   Free: 0.00B\n   Percentage: 100.0%\n=== Device: /dev/loop7 ===\n Mountpoint: /snap/snap-store/481\n File system type: squashfs\n   Total Size: 50.75MB\n   Used: 50.75MB\n   Free: 0.00B\n   Percentage: 100.0%\n=== Device: /dev/loop6 ===\n Mountpoint: /snap/gtk-common-themes/1506\n File system type: squashfs\n   Total Size: 62.12MB\n   Used: 62.12MB\n   Free: 0.00B\n   Percentage: 100.0%\n=== Device: /dev/loop8 ===\n Mountpoint: /snap/spotify/43\n File system type: squashfs\n   Total Size: 173.00MB\n   Used: 173.00MB\n   Free: 0.00B\n   Percentage: 100.0%\n=== Device: /dev/loop9 ===\n Mountpoint: /snap/code/50\n File system type: squashfs\n   Total Size: 146.12MB\n   Used: 146.12MB\n   Free: 0.00B\n   Percentage: 100.0%\n=== Device: /dev/loop10 ===\n Mountpoint: /snap/core18/1880\n File system type: squashfs\n   Total Size: 55.00MB\n   Used: 55.00MB\n   Free: 0.00B\n   Percentage: 100.0%\n=== Device: /dev/loop11 ===\n Mountpoint: /snap/snapd/8542\n File system type: squashfs\n   Total Size: 30.00MB\n   Used: 30.00MB\n   Free: 0.00B\n   Percentage: 100.0%\n=== Device: /dev/loop12 ===\n Mountpoint: /snap/snapd/9721\n File system type: squashfs\n   Total Size: 31.00MB\n   Used: 31.00MB\n   Free: 0.00B\n   Percentage: 100.0%\n=== Device: /dev/loop13 ===\n Mountpoint: /snap/spotify/42\n File system type: squashfs\n   Total Size: 169.38MB\n   Used: 169.38MB\n   Free: 0.00B\n   Percentage: 100.0%\nTotal read: 1.34GB\nTotal write: 197.23MB\n"
     ]
    }
   ],
   "source": [
    "## Disk Usage ####################################################\n",
    "\n",
    "# Disk Information\n",
    "print(\"Partitions and Usage:\")\n",
    "\n",
    "# Get all disk partitions\n",
    "partitions = psutil.disk_partitions()\n",
    "for partition in partitions:\n",
    "    print(f\"=== Device: {partition.device} ===\")\n",
    "    print(f\" Mountpoint: {partition.mountpoint}\")\n",
    "    print(f\" File system type: {partition.fstype}\")\n",
    "    try:\n",
    "        partition_usage = psutil.disk_usage(partition.mountpoint)\n",
    "    except PermissionError:\n",
    "        # this can be catched due to the disk that isn't ready\n",
    "        continue\n",
    "    print(f\"   Total Size: {get_size(partition_usage.total)}\")\n",
    "    print(f\"   Used: {get_size(partition_usage.used)}\")\n",
    "    print(f\"   Free: {get_size(partition_usage.free)}\")\n",
    "    print(f\"   Percentage: {partition_usage.percent}%\")\n",
    "\n",
    "# get IO statistics since boot\n",
    "disk_io = psutil.disk_io_counters()\n",
    "print(f\"Total read: {get_size(disk_io.read_bytes)}\")\n",
    "print(f\"Total write: {get_size(disk_io.write_bytes)}\")"
   ]
  },
  {
   "cell_type": "code",
   "execution_count": 21,
   "metadata": {},
   "outputs": [
    {
     "output_type": "stream",
     "name": "stdout",
     "text": [
      "=== Interface: lo ===\n  IP Address: 127.0.0.1\n  Netmask: 255.0.0.0\n  Broadcast IP: None\n=== Interface: lo ===\n=== Interface: lo ===\n  MAC Address: 00:00:00:00:00:00\n  Netmask: None\n  Broadcast MAC: None\n=== Interface: wlp0s20f3 ===\n  IP Address: 10.0.0.169\n  Netmask: 255.255.255.0\n  Broadcast IP: 10.0.0.255\n=== Interface: wlp0s20f3 ===\n=== Interface: wlp0s20f3 ===\n=== Interface: wlp0s20f3 ===\n=== Interface: wlp0s20f3 ===\n=== Interface: wlp0s20f3 ===\n  MAC Address: 34:2e:b7:0d:c8:cf\n  Netmask: None\n  Broadcast MAC: ff:ff:ff:ff:ff:ff\n=== Interface: virbr0 ===\n  IP Address: 192.168.122.1\n  Netmask: 255.255.255.0\n  Broadcast IP: 192.168.122.255\n=== Interface: virbr0 ===\n  MAC Address: 52:54:00:33:71:fd\n  Netmask: None\n  Broadcast MAC: ff:ff:ff:ff:ff:ff\n=== Interface: enx186571d0b947 ===\n  MAC Address: 18:65:71:d0:b9:47\n  Netmask: None\n  Broadcast MAC: ff:ff:ff:ff:ff:ff\n=== Interface: virbr0-nic ===\n  MAC Address: 52:54:00:33:71:fd\n  Netmask: None\n  Broadcast MAC: ff:ff:ff:ff:ff:ff\nTotal Bytes Sent: 630.66KB\nTotal Bytes Received: 968.94KB\n"
     ]
    }
   ],
   "source": [
    "## Network Information ###############################################\n",
    "# get all network interfaces (virtual and physical)\n",
    "if_addrs = psutil.net_if_addrs()\n",
    "for interface_name, interface_addresses in if_addrs.items():\n",
    "    for address in interface_addresses:\n",
    "        print(f\"=== Interface: {interface_name} ===\")\n",
    "        if str(address.family) == 'AddressFamily.AF_INET':\n",
    "            print(f\"  IP Address: {address.address}\")\n",
    "            print(f\"  Netmask: {address.netmask}\")\n",
    "            print(f\"  Broadcast IP: {address.broadcast}\")\n",
    "        elif str(address.family) == 'AddressFamily.AF_PACKET':\n",
    "            print(f\"  MAC Address: {address.address}\")\n",
    "            print(f\"  Netmask: {address.netmask}\")\n",
    "            print(f\"  Broadcast MAC: {address.broadcast}\")\n",
    "# get IO statistics since boot\n",
    "net_io = psutil.net_io_counters()\n",
    "print(f\"Total Bytes Sent: {get_size(net_io.bytes_sent)}\")\n",
    "print(f\"Total Bytes Received: {get_size(net_io.bytes_recv)}\")\n",
    "        "
   ]
  },
  {
   "cell_type": "code",
   "execution_count": 22,
   "metadata": {},
   "outputs": [
    {
     "output_type": "stream",
     "name": "stdout",
     "text": [
      "acpitz\n    acpitz               51.0 °C (high = 128.0 °C, critical = 128.0 °C)\n\npch_cometlake\n    pch_cometlake        69.0 °C (high = None °C, critical = None °C)\n\nthinkpad\n    thinkpad             51.0 °C (high = None °C, critical = None °C)\n    thinkpad             0.0 °C (high = None °C, critical = None °C)\n    thinkpad             1.0 °C (high = None °C, critical = None °C)\n    thinkpad             0.0 °C (high = None °C, critical = None °C)\n    thinkpad             0.0 °C (high = None °C, critical = None °C)\n    thinkpad             0.0 °C (high = None °C, critical = None °C)\n    thinkpad             0.0 °C (high = None °C, critical = None °C)\n    thinkpad             2.0 °C (high = None °C, critical = None °C)\n    thinkpad             47.0 °C (high = None °C, critical = None °C)\n    thinkpad             48.0 °C (high = None °C, critical = None °C)\n    thinkpad             0.0 °C (high = None °C, critical = None °C)\n    thinkpad             65.0 °C (high = None °C, critical = None °C)\n    thinkpad             53.0 °C (high = None °C, critical = None °C)\n    thinkpad             61.0 °C (high = None °C, critical = None °C)\n    thinkpad             0.0 °C (high = None °C, critical = None °C)\n\ncoretemp\n    Package id 0         53.0 °C (high = 100.0 °C, critical = 100.0 °C)\n    Core 0               48.0 °C (high = 100.0 °C, critical = 100.0 °C)\n    Core 1               50.0 °C (high = 100.0 °C, critical = 100.0 °C)\n    Core 2               51.0 °C (high = 100.0 °C, critical = 100.0 °C)\n    Core 3               48.0 °C (high = 100.0 °C, critical = 100.0 °C)\n    Core 4               52.0 °C (high = 100.0 °C, critical = 100.0 °C)\n    Core 5               46.0 °C (high = 100.0 °C, critical = 100.0 °C)\n    Core 6               53.0 °C (high = 100.0 °C, critical = 100.0 °C)\n    Core 7               48.0 °C (high = 100.0 °C, critical = 100.0 °C)\n    Package id 0         53.0 °C (high = 100.0 °C, critical = 100.0 °C)\n    Core 0               48.0 °C (high = 100.0 °C, critical = 100.0 °C)\n    Core 1               50.0 °C (high = 100.0 °C, critical = 100.0 °C)\n    Core 2               51.0 °C (high = 100.0 °C, critical = 100.0 °C)\n    Core 3               48.0 °C (high = 100.0 °C, critical = 100.0 °C)\n    Core 4               52.0 °C (high = 100.0 °C, critical = 100.0 °C)\n    Core 5               46.0 °C (high = 100.0 °C, critical = 100.0 °C)\n    Core 6               53.0 °C (high = 100.0 °C, critical = 100.0 °C)\n    Core 7               48.0 °C (high = 100.0 °C, critical = 100.0 °C)\n\niwlwifi_1\n    iwlwifi_1            34.0 °C (high = None °C, critical = None °C)\n\n"
     ]
    }
   ],
   "source": [
    "## Get Temperature Sensor Data\n",
    "\n",
    "if not hasattr(psutil, \"sensors_temperatures\"):\n",
    "    sys.exit(\"platform not supported\")\n",
    "temps = psutil.sensors_temperatures()\n",
    "if not temps:\n",
    "    sys.exit(\"can't read any temperature\")\n",
    "for name, entries in temps.items():\n",
    "    print(name)\n",
    "    for entry in entries:\n",
    "        print(\"    %-20s %s °C (high = %s °C, critical = %s °C)\" % (\n",
    "            entry.label or name, entry.current, entry.high,\n",
    "            entry.critical))\n",
    "    print()"
   ]
  },
  {
   "cell_type": "code",
   "execution_count": 23,
   "metadata": {},
   "outputs": [
    {
     "output_type": "stream",
     "name": "stdout",
     "text": [
      "thinkpad\n    thinkpad             3616 RPM\n\n"
     ]
    }
   ],
   "source": [
    "## Get Fan Data ############################################################\n",
    "if not hasattr(psutil, \"sensors_fans\"):\n",
    "    sys.exit(\"platform not supported\")  # add return statement in function\n",
    "fans = psutil.sensors_fans()\n",
    "if not fans:\n",
    "    print(\"no fans detected\")\n",
    "for name, entries in fans.items():\n",
    "    print(name)\n",
    "    for entry in entries:\n",
    "        print(\"    %-20s %s RPM\" % (entry.label or name, entry.current))\n",
    "    print()"
   ]
  },
  {
   "cell_type": "code",
   "execution_count": 24,
   "metadata": {},
   "outputs": [
    {
     "output_type": "stream",
     "name": "stdout",
     "text": [
      "charge:     46.43%\nstatus:     charging\nplugged in: yes\n"
     ]
    }
   ],
   "source": [
    "## Get Battery Data ########################################################\n",
    "\n",
    "# Function to convert seconds to hours\n",
    "\n",
    "##\n",
    "if not hasattr(psutil, \"sensors_battery\"):\n",
    "    sys.exit(\"platform not supported\")  # return\n",
    "batt = psutil.sensors_battery()\n",
    "if batt is None:\n",
    "    sys.exit(\"no battery is installed\")  # return\n",
    "print(\"charge:     %s%%\" % round(batt.percent, 2))\n",
    "if batt.power_plugged:\n",
    "    print(\"status:     %s\" % (\n",
    "        \"charging\" if batt.percent < 100 else \"fully charged\"))\n",
    "    print(\"plugged in: yes\")\n",
    "else:\n",
    "    print(\"left:       %s\" % secs2hours(batt.secsleft))\n",
    "    print(\"status:     %s\" % \"discharging\")\n",
    "    print(\"plugged in: no\")"
   ]
  },
  {
   "cell_type": "code",
   "execution_count": 25,
   "metadata": {},
   "outputs": [
    {
     "output_type": "execute_result",
     "data": {
      "text/plain": [
       "[suser(name='nchannelfet', terminal=':0', host='localhost', started=1606095616.0, pid=1781)]"
      ]
     },
     "metadata": {},
     "execution_count": 25
    }
   ],
   "source": [
    "## Get users connected to the system #######################################\n",
    "psutil.users()"
   ]
  },
  {
   "cell_type": "code",
   "execution_count": 28,
   "metadata": {},
   "outputs": [
    {
     "output_type": "error",
     "ename": "ValueError",
     "evalue": "invalid literal for int() with base 10: \"NVIDIA-SMI has failed because it couldn't communicate with the NVIDIA driver. Make sure that the latest NVIDIA driver is installed and running.\"",
     "traceback": [
      "\u001b[0;31m---------------------------------------------------------------------------\u001b[0m",
      "\u001b[0;31mValueError\u001b[0m                                Traceback (most recent call last)",
      "\u001b[0;32m<ipython-input-28-6541b13be50a>\u001b[0m in \u001b[0;36m<module>\u001b[0;34m\u001b[0m\n\u001b[1;32m      2\u001b[0m \u001b[0;32mimport\u001b[0m \u001b[0mGPUtil\u001b[0m\u001b[0;34m\u001b[0m\u001b[0;34m\u001b[0m\u001b[0m\n\u001b[1;32m      3\u001b[0m \u001b[0;34m\u001b[0m\u001b[0m\n\u001b[0;32m----> 4\u001b[0;31m \u001b[0mgpus\u001b[0m \u001b[0;34m=\u001b[0m \u001b[0mGPUtil\u001b[0m\u001b[0;34m.\u001b[0m\u001b[0mgetGPUs\u001b[0m\u001b[0;34m(\u001b[0m\u001b[0;34m)\u001b[0m\u001b[0;34m\u001b[0m\u001b[0;34m\u001b[0m\u001b[0m\n\u001b[0m\u001b[1;32m      5\u001b[0m \u001b[0mlist_gpus\u001b[0m \u001b[0;34m=\u001b[0m \u001b[0;34m[\u001b[0m\u001b[0;34m]\u001b[0m\u001b[0;34m\u001b[0m\u001b[0;34m\u001b[0m\u001b[0m\n\u001b[1;32m      6\u001b[0m \u001b[0;32mfor\u001b[0m \u001b[0mgpu\u001b[0m \u001b[0;32min\u001b[0m \u001b[0mgpus\u001b[0m\u001b[0;34m:\u001b[0m\u001b[0;34m\u001b[0m\u001b[0;34m\u001b[0m\u001b[0m\n",
      "\u001b[0;32m~/WS/PcStatsDash/pcstatsdashEnv/lib/python3.8/site-packages/GPUtil/GPUtil.py\u001b[0m in \u001b[0;36mgetGPUs\u001b[0;34m()\u001b[0m\n\u001b[1;32m    100\u001b[0m             \u001b[0;31m# print(vals[i])\u001b[0m\u001b[0;34m\u001b[0m\u001b[0;34m\u001b[0m\u001b[0;34m\u001b[0m\u001b[0m\n\u001b[1;32m    101\u001b[0m             \u001b[0;32mif\u001b[0m \u001b[0;34m(\u001b[0m\u001b[0mi\u001b[0m \u001b[0;34m==\u001b[0m \u001b[0;36m0\u001b[0m\u001b[0;34m)\u001b[0m\u001b[0;34m:\u001b[0m\u001b[0;34m\u001b[0m\u001b[0;34m\u001b[0m\u001b[0m\n\u001b[0;32m--> 102\u001b[0;31m                 \u001b[0mdeviceIds\u001b[0m \u001b[0;34m=\u001b[0m \u001b[0mint\u001b[0m\u001b[0;34m(\u001b[0m\u001b[0mvals\u001b[0m\u001b[0;34m[\u001b[0m\u001b[0mi\u001b[0m\u001b[0;34m]\u001b[0m\u001b[0;34m)\u001b[0m\u001b[0;34m\u001b[0m\u001b[0;34m\u001b[0m\u001b[0m\n\u001b[0m\u001b[1;32m    103\u001b[0m             \u001b[0;32melif\u001b[0m \u001b[0;34m(\u001b[0m\u001b[0mi\u001b[0m \u001b[0;34m==\u001b[0m \u001b[0;36m1\u001b[0m\u001b[0;34m)\u001b[0m\u001b[0;34m:\u001b[0m\u001b[0;34m\u001b[0m\u001b[0;34m\u001b[0m\u001b[0m\n\u001b[1;32m    104\u001b[0m                 \u001b[0muuid\u001b[0m \u001b[0;34m=\u001b[0m \u001b[0mvals\u001b[0m\u001b[0;34m[\u001b[0m\u001b[0mi\u001b[0m\u001b[0;34m]\u001b[0m\u001b[0;34m\u001b[0m\u001b[0;34m\u001b[0m\u001b[0m\n",
      "\u001b[0;31mValueError\u001b[0m: invalid literal for int() with base 10: \"NVIDIA-SMI has failed because it couldn't communicate with the NVIDIA driver. Make sure that the latest NVIDIA driver is installed and running.\""
     ]
    }
   ],
   "source": [
    "## Get GPU Info ############################################################\n",
    "import GPUtil\n",
    "\n",
    "gpus = GPUtil.getGPUs()\n",
    "list_gpus = []\n",
    "for gpu in gpus:\n",
    "    # get the GPU id\n",
    "    gpu_id = gpu.id\n",
    "    # name of GPU\n",
    "    gpu_name = gpu.name\n",
    "    # get % percentage of GPU usage of that GPU\n",
    "    gpu_load = f\"{gpu.load*100}%\"\n",
    "    # get free memory in MB format\n",
    "    gpu_free_memory = f\"{gpu.memoryFree}MB\"\n",
    "    # get used memory\n",
    "    gpu_used_memory = f\"{gpu.memoryUsed}MB\"\n",
    "    # get total memory\n",
    "    gpu_total_memory = f\"{gpu.memoryTotal}MB\"\n",
    "    # get GPU temperature in Celsius\n",
    "    gpu_temperature = f\"{gpu.temperature} °C\"\n",
    "    gpu_uuid = gpu.uuid\n",
    "    list_gpus.append((\n",
    "        gpu_id, gpu_name, gpu_load, gpu_free_memory, gpu_used_memory,\n",
    "        gpu_total_memory, gpu_temperature, gpu_uuid\n",
    "    ))\n",
    "\n",
    "print(lsit_gpus)\n"
   ]
  },
  {
   "cell_type": "code",
   "execution_count": 31,
   "metadata": {},
   "outputs": [],
   "source": [
    "# GPU type\n",
    "# :~$ lspci|grep -i nvidia\n",
    "# If above command does not work\n",
    "# :~$ sudo update-pciids"
   ]
  },
  {
   "cell_type": "code",
   "execution_count": 32,
   "metadata": {},
   "outputs": [],
   "source": [
    "# Determine Ubuntu distro and release\n",
    "# :~$ uname -m && cat /etc/*release"
   ]
  },
  {
   "cell_type": "code",
   "execution_count": null,
   "metadata": {},
   "outputs": [],
   "source": []
  }
 ]
}